{
 "cells": [
  {
   "cell_type": "code",
   "execution_count": 64,
   "metadata": {},
   "outputs": [],
   "source": [
    "import matplotlib\n",
    "import matplotlib.pyplot as plt\n",
    "from matplotlib.figure import Figure\n",
    "from matplotlib.backends.backend_agg import FigureCanvas\n",
    "\n",
    "import numpy as np\n",
    "import torch\n",
    "\n",
    "import pickle"
   ]
  },
  {
   "cell_type": "code",
   "execution_count": 4,
   "metadata": {},
   "outputs": [
    {
     "data": {
      "image/png": "[encoded data removed]",
      "text/plain": [
       "<Figure size 432x288 with 1 Axes>"
      ]
     },
     "metadata": {
      "needs_background": "light"
     },
     "output_type": "display_data"
    }
   ],
   "source": [
    "plt.text(0, 0, '1')\n",
    "plt.autoscale(enable=True, tight=True)\n",
    "plt.show()"
   ]
  },
  {
   "cell_type": "code",
   "execution_count": 60,
   "metadata": {},
   "outputs": [],
   "source": [
    "EMPTY_PIXEL = np.array([255, 255, 255], dtype=np.uint8)\n",
    "EMPTY_TENSOR_PIXEL = torch.tensor([1., 1., 1.], dtype=torch.float32).view(3, 1, 1)\n",
    "\n",
    "GRAYSCALE_WEIGHTS = np.array([0.2989, 0.5870, 0.1140]) \n",
    "DEFAULT_THRESHOLD = 0.2\n",
    "\n",
    "def find_non_empty_indices(X, empty_value=EMPTY_PIXEL, color_axis=2):\n",
    "    if isinstance(X, np.ndarray):\n",
    "        if not isinstance(empty_value, np.ndarray):\n",
    "            raise ValueError('Expected empty_value to be a numpy array when X is a numpy array')\n",
    "\n",
    "        empty_pixels = (X[:, :, :-1] == empty_value).all(axis=color_axis)\n",
    "        non_empty_rows = ~(empty_pixels.all(axis=1))\n",
    "        non_empty_cols = ~(empty_pixels.all(axis=0))\n",
    "        \n",
    "        first_non_empty_row = non_empty_rows.argmax()\n",
    "        last_non_empty_row = non_empty_rows.shape[0] - non_empty_rows[::-1].argmax()\n",
    "\n",
    "        first_non_empty_col = non_empty_cols.argmax() \n",
    "        last_non_empty_col = non_empty_cols.shape[0] - non_empty_cols[::-1].argmax()\n",
    "\n",
    "    elif isinstance(X, torch.Tensor):\n",
    "        if not isinstance(empty_value, torch.Tensor):\n",
    "            raise ValueError('Expected empty_value to be a torch tensor when X is a torch tensor')\n",
    "\n",
    "        empty_pixels = (X == empty_value).all(dim=color_axis)\n",
    "        if empty_pixels.dim() == 3:\n",
    "            empty_pixels = empty_pixels.all(dim=0)\n",
    "        non_empty_rows = (~(empty_pixels.all(dim=1))).double()  # torch doesn't support argmax for booleans\n",
    "        non_empty_cols = (~(empty_pixels.all(dim=0))).double()\n",
    "        \n",
    "        first_non_empty_row = non_empty_rows.argmax()\n",
    "        last_non_empty_row = non_empty_rows.shape[0] - non_empty_rows.flip(0).argmax()\n",
    "\n",
    "        first_non_empty_col = non_empty_cols.argmax() \n",
    "        last_non_empty_col = non_empty_cols.shape[0] - non_empty_cols.flip(0).argmax()\n",
    "\n",
    "    else:\n",
    "        raise ValueError('Expected X to be a numpy array or a torch tensor')\n",
    "\n",
    "\n",
    "    return first_non_empty_row, last_non_empty_row, first_non_empty_col, last_non_empty_col\n",
    "\n",
    "def _text_to_array(text, size, xlim=None, ylim=None, fontsize=16, threshold=DEFAULT_THRESHOLD):\n",
    "    fig = Figure(figsize=(4, 4))\n",
    "    # attach a non-interactive Agg canvas to the figure\n",
    "    # (as a side-effect of the ``__init__``)\n",
    "    canvas = FigureCanvas(fig)\n",
    "    ax = fig.subplots()\n",
    "    max_size = max(size)\n",
    "\n",
    "    if xlim is None:\n",
    "        ax.set_xlim(-max_size, max_size)\n",
    "    else:\n",
    "        ax.set_xlim(*xlim)\n",
    "\n",
    "    if ylim is None:\n",
    "        ax.set_ylim(-max_size, max_size)\n",
    "    else:\n",
    "        ax.set_ylim(*ylim)\n",
    "\n",
    "    ax.set_facecolor('white')\n",
    "    ax.text(0, 0, text, fontsize=fontsize)\n",
    "    ax.set_axis_off()\n",
    "    # ax.autoscale(tight=True)\n",
    "    # Force a draw so we can grab the pixel buffer\n",
    "    canvas.draw()\n",
    "    # grab the pixel buffer and dump it into a numpy array\n",
    "    X = np.array(canvas.renderer.buffer_rgba())\n",
    "\n",
    "    first_non_empty_row, last_non_empty_row, first_non_empty_col, last_non_empty_col = find_non_empty_indices(X)\n",
    "    X_trim = X[first_non_empty_row:last_non_empty_row, first_non_empty_col:last_non_empty_col, :]\n",
    "    h, w = X_trim.shape[:2]\n",
    "    square_size = max(w, h)\n",
    "    h_pad = (square_size - h) // 2\n",
    "    w_pad = (square_size - w) // 2\n",
    "    X_pad = np.pad(X_trim, ((h_pad, h_pad), (w_pad, w_pad), (0, 0)), mode='constant', constant_values=255)\n",
    "\n",
    "    X_grayscale = (GRAYSCALE_WEIGHTS.reshape(1, 1, 3) * X_pad[:, :, :-1].astype(float) / 255).sum(-1)\n",
    "    X_alpha = (X_pad[:, :, -1].astype(float) / 255)\n",
    "    return ((1 - X_grayscale) * X_alpha > threshold).astype(np.uint8)\n",
    "\n",
    "\n"
   ]
  },
  {
   "cell_type": "code",
   "execution_count": 77,
   "metadata": {},
   "outputs": [
    {
     "data": {
      "image/png": "[encoded data removed]",
      "text/plain": [
       "<Figure size 432x288 with 1 Axes>"
      ]
     },
     "metadata": {
      "needs_background": "light"
     },
     "output_type": "display_data"
    },
    {
     "data": {
      "image/png": "[encoded data removed]",
      "text/plain": [
       "<Figure size 432x288 with 1 Axes>"
      ]
     },
     "metadata": {
      "needs_background": "light"
     },
     "output_type": "display_data"
    }
   ],
   "source": [
    "text_to_array_dict = dict()\n",
    "\n",
    "for i in range(0, 11):\n",
    "    X = _text_to_array(str(i), (2, 2))\n",
    "    text_to_array_dict[str(i)] = X\n",
    "    # plt.imshow(X, cmap='gray_r')\n",
    "    # plt.show()\n",
    "\n",
    "\n",
    "OTHER_SYMBOLS = '+-'\n",
    "\n",
    "for symbol in OTHER_SYMBOLS:\n",
    "    X = _text_to_array(symbol, (2, 2), threshold=0.05)\n",
    "    text_to_array_dict[symbol] = X\n",
    "    plt.imshow(X, cmap='gray_r')\n",
    "    plt.show()\n",
    "\n",
    "with open('../gym_minigrid/text_to_array.pkl', 'wb') as f:\n",
    "    pickle.dump(text_to_array_dict, f)\n",
    "\n"
   ]
  },
  {
   "cell_type": "code",
   "execution_count": 66,
   "metadata": {},
   "outputs": [
    {
     "data": {
      "text/plain": [
       "(18, 18)"
      ]
     },
     "execution_count": 66,
     "metadata": {},
     "output_type": "execute_result"
    }
   ],
   "source": [
    "X.shape"
   ]
  },
  {
   "cell_type": "code",
   "execution_count": 78,
   "metadata": {},
   "outputs": [
    {
     "data": {
      "text/plain": [
       "{'a': 'b', 'c': 'd'}"
      ]
     },
     "execution_count": 78,
     "metadata": {},
     "output_type": "execute_result"
    }
   ],
   "source": [
    "l = ['a=b', 'c=d']\n",
    "dict(x.split('=') for x in l)"
   ]
  },
  {
   "cell_type": "code",
   "execution_count": null,
   "metadata": {},
   "outputs": [],
   "source": []
  }
 ],
 "metadata": {
  "interpreter": {
   "hash": "d8775025b178470b7b487df744aa50e287915f8de1ad29ac834985f09f2d3ff0"
  },
  "kernelspec": {
   "display_name": "Python 3.9.12 ('minigrid')",
   "language": "python",
   "name": "python3"
  },
  "language_info": {
   "codemirror_mode": {
    "name": "ipython",
    "version": 3
   },
   "file_extension": ".py",
   "mimetype": "text/x-python",
   "name": "python",
   "nbconvert_exporter": "python",
   "pygments_lexer": "ipython3",
   "version": "3.9.12"
  },
  "orig_nbformat": 4
 },
 "nbformat": 4,
 "nbformat_minor": 2
}
