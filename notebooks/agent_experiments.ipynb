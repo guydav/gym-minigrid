{
 "cells": [
  {
   "cell_type": "code",
   "execution_count": 1,
   "metadata": {},
   "outputs": [],
   "source": [
    "\n",
    "from collections import defaultdict\n",
    "import typing\n",
    "import numpy as np\n",
    "import matplotlib\n",
    "import matplotlib.pyplot as plt\n",
    "\n",
    "import gym\n",
    "import gym_minigrid\n",
    "from gym_minigrid.wrappers import ImgObsWrapper\n",
    "from gym_minigrid.envs.numbertasks import NumberTaskType\n",
    "\n",
    "from stable_baselines3 import A2C, PPO\n",
    "from stable_baselines3.common.monitor import Monitor\n",
    "from stable_baselines3.common.vec_env import DummyVecEnv\n",
    "from stable_baselines3.common.callbacks import EvalCallback, StopTrainingOnRewardThreshold\n"
   ]
  },
  {
   "cell_type": "code",
   "execution_count": null,
   "metadata": {},
   "outputs": [],
   "source": [
    "def _make_env(id, **kwargs):\n",
    "    env = gym.make(id, **kwargs)\n",
    "    return Monitor(ImgObsWrapper(env))\n",
    "\n",
    "\n",
    "def _make_n_envs(id, n, seed, **kwargs):\n",
    "    return DummyVecEnv([lambda: _make_env(id, seed=seed + i, **kwargs) for i in range(n)])"
   ]
  },
  {
   "cell_type": "code",
   "execution_count": 2,
   "metadata": {},
   "outputs": [
    {
     "ename": "NameError",
     "evalue": "name 'NumberTaskType' is not defined",
     "output_type": "error",
     "traceback": [
      "\u001b[1;31m---------------------------------------------------------------------------\u001b[0m",
      "\u001b[1;31mNameError\u001b[0m                                 Traceback (most recent call last)",
      "\u001b[1;32mc:\\Users\\t-gdavidson\\projects\\gym-minigrid\\notebooks\\agent_experiments.ipynb Cell 3'\u001b[0m in \u001b[0;36m<cell line: 11>\u001b[1;34m()\u001b[0m\n\u001b[0;32m      <a href='vscode-notebook-cell:/c%3A/Users/t-gdavidson/projects/gym-minigrid/notebooks/agent_experiments.ipynb#ch0000002?line=7'>8</a>\u001b[0m TRAIN_SEED \u001b[39m=\u001b[39m \u001b[39m100\u001b[39m\n\u001b[0;32m      <a href='vscode-notebook-cell:/c%3A/Users/t-gdavidson/projects/gym-minigrid/notebooks/agent_experiments.ipynb#ch0000002?line=8'>9</a>\u001b[0m EVAL_SEED \u001b[39m=\u001b[39m \u001b[39m200\u001b[39m\n\u001b[1;32m---> <a href='vscode-notebook-cell:/c%3A/Users/t-gdavidson/projects/gym-minigrid/notebooks/agent_experiments.ipynb#ch0000002?line=10'>11</a>\u001b[0m TASKS \u001b[39m=\u001b[39m NumberTaskType\n\u001b[0;32m     <a href='vscode-notebook-cell:/c%3A/Users/t-gdavidson/projects/gym-minigrid/notebooks/agent_experiments.ipynb#ch0000002?line=12'>13</a>\u001b[0m AGENT_TYPES \u001b[39m=\u001b[39m [A2C, PPO]\n\u001b[0;32m     <a href='vscode-notebook-cell:/c%3A/Users/t-gdavidson/projects/gym-minigrid/notebooks/agent_experiments.ipynb#ch0000002?line=13'>14</a>\u001b[0m AGENT_KWARGS \u001b[39m=\u001b[39m \u001b[39mdict\u001b[39m(learning_rate\u001b[39m=\u001b[39m\u001b[39m2e-3\u001b[39m)\n",
      "\u001b[1;31mNameError\u001b[0m: name 'NumberTaskType' is not defined"
     ]
    }
   ],
   "source": [
    "N_ENVS = 10\n",
    "N_EVALS = 20\n",
    "N_BASE_STEPS = 100000\n",
    "N_TOTAL_STEPS = N_BASE_STEPS * N_ENVS\n",
    "N_EVAL_EPISODES = 10\n",
    "\n",
    "ENV_ID = 'MiniGrid-NumberTasksNosePoke-v0'\n",
    "TRAIN_SEED = 100\n",
    "EVAL_SEED = 200\n",
    "\n",
    "TASKS = NumberTaskType\n",
    "\n",
    "AGENT_TYPES = [A2C, PPO]\n",
    "AGENT_KWARGS = dict(learning_rate=2e-3)\n",
    "\n",
    "\n",
    "\n",
    "\n",
    "for task in TASKS:\n",
    "    for agent_type in AGENT_TYPES:\n",
    "        if N_ENVS == 1:\n",
    "            env = _make_env(id, seed=TRAIN_SEED, task=task)\n",
    "        else:\n",
    "            env = _make_n_envs(id, n=N_ENVS, seed=TRAIN_SEED, task=task)\n",
    "\n",
    "        eval_env =_make_env(id, seed=EVAL_SEED, task=task)\n",
    "        stop_callback = StopTrainingOnRewardThreshold(reward_threshold=0.85, verbose=1)\n",
    "        eval_callback = EvalCallback(eval_env, n_eval_episodes=N_EVAL_EPISODES, \n",
    "            eval_freq=N_BASE_STEPS / N_EVALS, callback_on_new_best=stop_callback,\n",
    "            eval_log_dir=f'./logs/{agent_type.__name__}_{task.name}', verbose=1)\n",
    "\n",
    "        model = agent_type('MlpPolicy', env, verbose=1, **AGENT_KWARGS)\n",
    "        model.learn(total_timesteps=N_TOTAL_STEPS, callback=eval_callback)\n",
    "\n",
    "\n"
   ]
  }
 ],
 "metadata": {
  "interpreter": {
   "hash": "d8775025b178470b7b487df744aa50e287915f8de1ad29ac834985f09f2d3ff0"
  },
  "kernelspec": {
   "display_name": "Python 3.9.12 ('minigrid')",
   "language": "python",
   "name": "python3"
  },
  "language_info": {
   "codemirror_mode": {
    "name": "ipython",
    "version": 3
   },
   "file_extension": ".py",
   "mimetype": "text/x-python",
   "name": "python",
   "nbconvert_exporter": "python",
   "pygments_lexer": "ipython3",
   "version": "3.9.12"
  },
  "orig_nbformat": 4
 },
 "nbformat": 4,
 "nbformat_minor": 2
}
